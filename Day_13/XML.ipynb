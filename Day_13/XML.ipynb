{
 "cells": [
  {
   "cell_type": "code",
   "execution_count": 1,
   "metadata": {},
   "outputs": [],
   "source": [
    "import xml.etree.ElementTree as ET"
   ]
  },
  {
   "cell_type": "code",
   "execution_count": 2,
   "metadata": {},
   "outputs": [],
   "source": [
    "tree_college = ET.parse('college.xml')\n",
    "tree_car = ET.parse('car.xml')"
   ]
  },
  {
   "cell_type": "code",
   "execution_count": 4,
   "metadata": {},
   "outputs": [],
   "source": [
    "root_college = tree_college.getroot()\n",
    "root_car = tree_car.getroot()"
   ]
  },
  {
   "cell_type": "code",
   "execution_count": 5,
   "metadata": {},
   "outputs": [
    {
     "data": {
      "text/plain": [
       "'University'"
      ]
     },
     "execution_count": 5,
     "metadata": {},
     "output_type": "execute_result"
    }
   ],
   "source": [
    "root_college.tag"
   ]
  },
  {
   "cell_type": "code",
   "execution_count": 6,
   "metadata": {},
   "outputs": [
    {
     "name": "stdout",
     "output_type": "stream",
     "text": [
      "college {'name': 'Hogwarts', 'category': 'Magic'}\n"
     ]
    }
   ],
   "source": [
    "for child in root_college:\n",
    "    print(child.tag,child.attrib)"
   ]
  },
  {
   "cell_type": "code",
   "execution_count": 30,
   "metadata": {},
   "outputs": [
    {
     "data": {
      "text/plain": [
       "'harry'"
      ]
     },
     "execution_count": 30,
     "metadata": {},
     "output_type": "execute_result"
    }
   ],
   "source": [
    "root[0][0][0].text"
   ]
  },
  {
   "cell_type": "code",
   "execution_count": 41,
   "metadata": {},
   "outputs": [
    {
     "name": "stdout",
     "output_type": "stream",
     "text": [
      "Company {'name': 'Ford'}\n",
      "Company {'name': 'Maruti'}\n"
     ]
    }
   ],
   "source": [
    "for child in root_car:\n",
    "    print(child.tag,child.attrib)"
   ]
  },
  {
   "cell_type": "code",
   "execution_count": 44,
   "metadata": {},
   "outputs": [],
   "source": [
    "for model in root_car.iter('model'):\n",
    "    print(model)"
   ]
  },
  {
   "cell_type": "code",
   "execution_count": 62,
   "metadata": {},
   "outputs": [
    {
     "name": "stdout",
     "output_type": "stream",
     "text": [
      " 1200 \n",
      " 1200 \n",
      " 1500 \n",
      " 3200\n",
      " 1000 \n",
      " 1200 \n",
      " 1300 \n"
     ]
    }
   ],
   "source": [
    "for car in root_car.iter('engine'):\n",
    "    print(car.text)"
   ]
  },
  {
   "cell_type": "code",
   "execution_count": 63,
   "metadata": {},
   "outputs": [],
   "source": [
    "iter_engine = root_car.iter('engine')"
   ]
  },
  {
   "cell_type": "code",
   "execution_count": 64,
   "metadata": {},
   "outputs": [],
   "source": [
    "engine = next(iter_engine)"
   ]
  },
  {
   "cell_type": "code",
   "execution_count": 81,
   "metadata": {},
   "outputs": [
    {
     "name": "stdout",
     "output_type": "stream",
     "text": [
      "None\n",
      "{'model': 'Figo', 'category': 'small car'}\n",
      " 6.5 \n",
      "{'model': 'Aspire', 'category': 'Sedan'}\n",
      " 7.5 \n",
      "{'model': 'Ecosport', 'category': 'SUV'}\n",
      " 10.5 \n",
      "{'model': 'Endevour', 'category': 'SUV'}\n",
      " 22 \n",
      "None\n",
      "{'model': 'Celerio', 'category': 'small car'}\n",
      " 4.5 \n",
      "{'model': 'Dzire', 'category': 'Sedan'}\n",
      " 7.5 \n",
      "{'model': 'Brezza', 'category': 'SUV'}\n",
      " 10.5 \n"
     ]
    }
   ],
   "source": [
    "for car in root_car.findall('Company'):\n",
    "    for car_model in car.findall('car'):\n",
    "        print(car_model.attrib)\n",
    "        cost = car_model.find('cost').text\n",
    "        print(cost)\n"
   ]
  },
  {
   "cell_type": "code",
   "execution_count": null,
   "metadata": {},
   "outputs": [],
   "source": []
  }
 ],
 "metadata": {
  "kernelspec": {
   "display_name": "Python 3",
   "language": "python",
   "name": "python3"
  },
  "language_info": {
   "codemirror_mode": {
    "name": "ipython",
    "version": 3
   },
   "file_extension": ".py",
   "mimetype": "text/x-python",
   "name": "python",
   "nbconvert_exporter": "python",
   "pygments_lexer": "ipython3",
   "version": "3.7.1"
  }
 },
 "nbformat": 4,
 "nbformat_minor": 2
}
