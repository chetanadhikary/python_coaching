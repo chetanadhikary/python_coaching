{
 "cells": [
  {
   "cell_type": "markdown",
   "metadata": {},
   "source": [
    "# Pickling Class Objects"
   ]
  },
  {
   "cell_type": "code",
   "execution_count": null,
   "metadata": {},
   "outputs": [],
   "source": [
    "import pickle"
   ]
  },
  {
   "cell_type": "code",
   "execution_count": null,
   "metadata": {},
   "outputs": [],
   "source": [
    "class Company:\n",
    "    def __init__(self,name):\n",
    "        self.name = name  \n",
    "        self.__lst_cars = list()\n",
    "        self.__index = 0\n",
    "    \n",
    "    def add_cars(self,*args):\n",
    "        for i in args:\n",
    "            self.__lst_cars.append(i)\n",
    "#         self.__index = len(self.__lst_cars) ## For decreasing index\n",
    "        return self.__lst_cars\n",
    "        \n",
    "    def __iter__(self):\n",
    "        return self\n",
    "    \n",
    "    def __next__(self):\n",
    "#         if self.__index == 0: ## For decreasing index\n",
    "        if self.__index == len(self.__lst_cars): ## For increasing index\n",
    "            raise StopIteration\n",
    "        car = self.__lst_cars[self.__index]\n",
    "        self.__index = self.__index+1  \n",
    "        ## self.__index = self.__index-1.  ## For decreasing index\n",
    "        return car"
   ]
  },
  {
   "cell_type": "code",
   "execution_count": null,
   "metadata": {},
   "outputs": [],
   "source": [
    "maruti = Company('maruti')\n",
    "hyundai = Company('hyundai')\n",
    "ford = Company('Ford')\n",
    "\n",
    "maruti.add_cars('alto','celerio','baleno','swift')\n",
    "hyundai.add_cars('santro','accent','i10','i20')\n",
    "ford.add_cars('figo','figos','ecosport','mustang')"
   ]
  },
  {
   "cell_type": "markdown",
   "metadata": {},
   "source": [
    "# Pickle an object "
   ]
  },
  {
   "cell_type": "code",
   "execution_count": null,
   "metadata": {},
   "outputs": [],
   "source": [
    "pickle.dump(maruti,open('maruti','wb'))\n",
    "\n",
    "maruti_rec = pickle.load(open('maruti','rb'))"
   ]
  },
  {
   "cell_type": "code",
   "execution_count": null,
   "metadata": {},
   "outputs": [],
   "source": [
    "for car in maruti_rec:\n",
    "    print(car)"
   ]
  },
  {
   "cell_type": "markdown",
   "metadata": {},
   "source": [
    "# Pickle multiple objects"
   ]
  },
  {
   "cell_type": "code",
   "execution_count": null,
   "metadata": {},
   "outputs": [],
   "source": [
    "dict_obj= {'maruti': maruti,'ford':ford,'hyundai':hyundai}\n",
    "# tup_obj = (maruti,ford,hyundai)\n",
    "pickle.dump(dict_obj,open('car_objects','wb'))"
   ]
  },
  {
   "cell_type": "code",
   "execution_count": null,
   "metadata": {},
   "outputs": [],
   "source": [
    "objs = pickle.load(open('car_objects','rb'))"
   ]
  },
  {
   "cell_type": "code",
   "execution_count": null,
   "metadata": {},
   "outputs": [],
   "source": [
    "objs.keys()\n",
    "    "
   ]
  },
  {
   "cell_type": "code",
   "execution_count": null,
   "metadata": {},
   "outputs": [],
   "source": [
    "for car in objs['ford']:\n",
    "    print(car)"
   ]
  },
  {
   "cell_type": "code",
   "execution_count": null,
   "metadata": {},
   "outputs": [],
   "source": [
    "objs"
   ]
  },
  {
   "cell_type": "markdown",
   "metadata": {},
   "source": [
    "# Shelves"
   ]
  },
  {
   "cell_type": "code",
   "execution_count": null,
   "metadata": {},
   "outputs": [],
   "source": [
    "import shelve"
   ]
  },
  {
   "cell_type": "code",
   "execution_count": null,
   "metadata": {},
   "outputs": [],
   "source": [
    "dbase = shelve.open('cars')\n",
    "for obj in (maruti,ford,hyundai):\n",
    "    dbase[obj.name]=obj"
   ]
  },
  {
   "cell_type": "code",
   "execution_count": null,
   "metadata": {},
   "outputs": [],
   "source": [
    "dbase = shelve.open('cars')"
   ]
  },
  {
   "cell_type": "code",
   "execution_count": null,
   "metadata": {},
   "outputs": [],
   "source": [
    "list(dbase.keys())"
   ]
  },
  {
   "cell_type": "code",
   "execution_count": null,
   "metadata": {},
   "outputs": [],
   "source": [
    "for company in dbase.keys():\n",
    "    print(company,end=': ')\n",
    "    for car in dbase[company]:\n",
    "        print(car,end=',')\n",
    "    print('\\n')"
   ]
  },
  {
   "cell_type": "code",
   "execution_count": null,
   "metadata": {},
   "outputs": [],
   "source": []
  }
 ],
 "metadata": {
  "kernelspec": {
   "display_name": "Python 3",
   "language": "python",
   "name": "python3"
  },
  "language_info": {
   "codemirror_mode": {
    "name": "ipython",
    "version": 3
   },
   "file_extension": ".py",
   "mimetype": "text/x-python",
   "name": "python",
   "nbconvert_exporter": "python",
   "pygments_lexer": "ipython3",
   "version": "3.7.6"
  }
 },
 "nbformat": 4,
 "nbformat_minor": 2
}
